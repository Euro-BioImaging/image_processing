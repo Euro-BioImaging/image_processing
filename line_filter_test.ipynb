{
 "cells": [
  {
   "cell_type": "code",
   "execution_count": 3,
   "id": "c2f11584-c5fb-4373-8e4b-4ffce8fb9e17",
   "metadata": {},
   "outputs": [
    {
     "name": "stderr",
     "output_type": "stream",
     "text": [
      "C:\\Users\\oezdemir\\Anaconda3\\envs\\newenv\\lib\\site-packages\\image_processing\\transforms\\photometric\\local_filtering\\enhancement.py:364: RuntimeWarning: divide by zero encountered in true_divide\n",
      "  term0 = -l1 * np.exp(-(np.square(l2) / (2 * np.square(alpha1 * l1))))  ### both l1 and l2 are smaller than 0\n",
      "C:\\Users\\oezdemir\\Anaconda3\\envs\\newenv\\lib\\site-packages\\image_processing\\transforms\\photometric\\local_filtering\\enhancement.py:364: RuntimeWarning: invalid value encountered in true_divide\n",
      "  term0 = -l1 * np.exp(-(np.square(l2) / (2 * np.square(alpha1 * l1))))  ### both l1 and l2 are smaller than 0\n",
      "C:\\Users\\oezdemir\\Anaconda3\\envs\\newenv\\lib\\site-packages\\image_processing\\transforms\\photometric\\local_filtering\\enhancement.py:365: RuntimeWarning: divide by zero encountered in true_divide\n",
      "  term1 = -l1 * np.exp(-(np.square(l2) / (2 * np.square(alpha2 * l1)))) ### l2 is greater than 0 and l1 is smaller than 0\n",
      "C:\\Users\\oezdemir\\Anaconda3\\envs\\newenv\\lib\\site-packages\\image_processing\\transforms\\photometric\\local_filtering\\enhancement.py:365: RuntimeWarning: invalid value encountered in true_divide\n",
      "  term1 = -l1 * np.exp(-(np.square(l2) / (2 * np.square(alpha2 * l1)))) ### l2 is greater than 0 and l1 is smaller than 0\n",
      "C:\\Users\\oezdemir\\Anaconda3\\envs\\newenv\\lib\\site-packages\\image_processing\\transforms\\photometric\\local_filtering\\enhancement.py:516: RuntimeWarning: divide by zero encountered in true_divide\n",
      "  vesselness = np.square(l1) * (lr - l1) * (27 / ((l1 + lr) ** 3))\n",
      "C:\\Users\\oezdemir\\Anaconda3\\envs\\newenv\\lib\\site-packages\\image_processing\\transforms\\photometric\\local_filtering\\enhancement.py:516: RuntimeWarning: invalid value encountered in multiply\n",
      "  vesselness = np.square(l1) * (lr - l1) * (27 / ((l1 + lr) ** 3))\n",
      "C:\\Users\\oezdemir\\Anaconda3\\envs\\newenv\\lib\\site-packages\\image_processing\\transforms\\photometric\\local_filtering\\enhancement.py:566: RuntimeWarning: divide by zero encountered in true_divide\n",
      "  zhang_term = 1 - np.exp(-1.5 * ((np.square(l0) + np.square(l1) + np.square(lr)) / lr))\n",
      "C:\\Users\\oezdemir\\Anaconda3\\envs\\newenv\\lib\\site-packages\\image_processing\\transforms\\photometric\\local_filtering\\enhancement.py:566: RuntimeWarning: invalid value encountered in true_divide\n",
      "  zhang_term = 1 - np.exp(-1.5 * ((np.square(l0) + np.square(l1) + np.square(lr)) / lr))\n",
      "C:\\Users\\oezdemir\\Anaconda3\\envs\\newenv\\lib\\site-packages\\image_processing\\transforms\\photometric\\local_filtering\\enhancement.py:567: RuntimeWarning: divide by zero encountered in true_divide\n",
      "  vesselness = np.square(l1) * (lr - l1) * (27 / ((l1 + lr) ** 3)) * zhang_term\n",
      "C:\\Users\\oezdemir\\Anaconda3\\envs\\newenv\\lib\\site-packages\\image_processing\\transforms\\photometric\\local_filtering\\enhancement.py:567: RuntimeWarning: invalid value encountered in multiply\n",
      "  vesselness = np.square(l1) * (lr - l1) * (27 / ((l1 + lr) ** 3)) * zhang_term\n",
      "WARNING: QWindowsWindow::setGeometry: Unable to set geometry 1920x1142+0+34 (frame: 1942x1198-11-11) on QWidgetWindow/\"_QtMainWindowClassWindow\" on \"\\\\.\\DISPLAY1\". Resulting geometry: 1920x1076+0+34 (frame: 1942x1132-11-11) margins: 11, 45, 11, 11 minimum size: 602x538 MINMAXINFO maxSize=0,0 maxpos=0,0 mintrack=1226,1132 maxtrack=0,0)\n"
     ]
    },
    {
     "data": {
      "text/plain": [
       "<Image layer 'res_meij' at 0x23e18da13d0>"
      ]
     },
     "execution_count": 3,
     "metadata": {},
     "output_type": "execute_result"
    },
    {
     "name": "stderr",
     "output_type": "stream",
     "text": [
      "WARNING: QWindowsWindow::setGeometry: Unable to set geometry 1920x1186+0+34 (frame: 1942x1242-11-11) on QWidgetWindow/\"_QtMainWindowClassWindow\" on \"\\\\.\\DISPLAY1\". Resulting geometry: 1920x986+0+34 (frame: 1942x1042-11-11) margins: 11, 45, 11, 11 minimum size: 602x593 MINMAXINFO maxSize=0,0 maxpos=0,0 mintrack=1226,1242 maxtrack=0,0)\n",
      "WARNING: QWindowsWindow::setGeometry: Unable to set geometry 1920x1142+0+34 (frame: 1942x1198-11-11) on QWidgetWindow/\"_QtMainWindowClassWindow\" on \"\\\\.\\DISPLAY1\". Resulting geometry: 1920x986+0+34 (frame: 1942x1042-11-11) margins: 11, 45, 11, 11 minimum size: 602x571 MINMAXINFO maxSize=0,0 maxpos=0,0 mintrack=1226,1198 maxtrack=0,0)\n"
     ]
    }
   ],
   "source": [
    "import tifffile\n",
    "import os\n",
    "import napari\n",
    "from image_processing.transforms.photometric.local_filtering import enhancement as en\n",
    "from image_processing.utils import convenience as cnv\n",
    "\n",
    "maindir = r'C:\\Users\\oezdemir\\fijidata'\n",
    "name = 'filament.tif' \n",
    "filename = os.path.join(maindir, name)\n",
    "\n",
    "\n",
    "\n",
    "img = tifffile.imread(filename)\n",
    "img = cnv.rescale(img)\n",
    "res_sato = en.sato_vesselness(img,  sig = [0.5, 1, 2], alpha1 = 1.2, alpha2 = 6, \n",
    "                              min_contrast = 0.0, grad_type = 'numpy', \n",
    "                              scale = False)\n",
    "\n",
    "res_frangi = en.frangi_vesselness(img,  sig = [0.5, 1, 2], alpha = 1.2, beta = 6, c = 0.005,\n",
    "                                  min_contrast = 0.0, grad_type = 'numpy', \n",
    "                                  scale = True)\n",
    "\n",
    "res_jerman = en.jerman_vesselness(img,  sig = [0.5, 1, 2], tau = 0.2,\n",
    "                                  min_contrast = 0.0, grad_type = 'numpy', \n",
    "                                  scale = False)\n",
    "\n",
    "res_zhang = en.zhang_vesselness(img,  sig = [0.5, 1, 2], tau = 0.01,\n",
    "                                  min_contrast = 0.0, grad_type = 'numpy', \n",
    "                                  scale = False)\n",
    "\n",
    "res_meij = en.meijering_vesselness(img,  sig = [0.5, 1, 2], alpha = 5,\n",
    "                                  min_contrast = 0.0, grad_type = 'numpy')\n",
    "\n",
    "\n",
    "viewer = napari.Viewer()\n",
    "viewer.add_image(img, colormap = \"gray\", scale = (10, 1, 1))\n",
    "viewer.add_image(res_sato, colormap = \"gray\", scale = (10, 1, 1))\n",
    "viewer.add_image(res_frangi, colormap = \"gray\", scale = (10, 1, 1))\n",
    "viewer.add_image(res_jerman, colormap = \"gray\", scale = (10, 1, 1))\n",
    "viewer.add_image(res_zhang, colormap = \"gray\", scale = (10, 1, 1))\n",
    "viewer.add_image(res_meij, colormap = \"gray\", scale = (10, 1, 1))"
   ]
  },
  {
   "cell_type": "code",
   "execution_count": null,
   "id": "3836d5a0-645a-4769-9307-d53f71af846f",
   "metadata": {},
   "outputs": [],
   "source": []
  }
 ],
 "metadata": {
  "kernelspec": {
   "display_name": "Python 3 (ipykernel)",
   "language": "python",
   "name": "python3"
  },
  "language_info": {
   "codemirror_mode": {
    "name": "ipython",
    "version": 3
   },
   "file_extension": ".py",
   "mimetype": "text/x-python",
   "name": "python",
   "nbconvert_exporter": "python",
   "pygments_lexer": "ipython3",
   "version": "3.8.12"
  }
 },
 "nbformat": 4,
 "nbformat_minor": 5
}
