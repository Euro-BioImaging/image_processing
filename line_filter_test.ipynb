{
 "cells": [
  {
   "cell_type": "code",
   "execution_count": null,
   "id": "3836d5a0-645a-4769-9307-d53f71af846f",
   "metadata": {},
   "outputs": [],
   "source": [
    "import tifffile\n",
    "import os\n",
    "import napari\n",
    "from image_processing.transforms.photometric.local_filtering import enhancement as en\n",
    "from image_processing.utils import convenience as cnv\n",
    "\n",
    "maindir = r'main'\n",
    "name = 'filament.tif' \n",
    "filename = os.path.join(maindir, name)\n",
    "\n",
    "\n",
    "\n",
    "img = tifffile.imread(filename)\n",
    "img = cnv.rescale(img)\n",
    "res_sato = en.sato_vesselness(img,  sig = [0.5, 1, 2], alpha1 = 1.2, alpha2 = 6, \n",
    "                              min_contrast = 0.0, grad_type = 'numpy', \n",
    "                              scale = False)\n",
    "\n",
    "res_frangi = en.frangi_vesselness(img,  sig = [0.5, 1, 2], alpha = 1.2, beta = 6, c = 0.005,\n",
    "                                  min_contrast = 0.0, grad_type = 'numpy', \n",
    "                                  scale = True)\n",
    "\n",
    "res_jerman = en.jerman_vesselness(img,  sig = [0.5, 1, 2], tau = 0.2,\n",
    "                                  min_contrast = 0.0, grad_type = 'numpy', \n",
    "                                  scale = False)\n",
    "\n",
    "res_zhang = en.zhang_vesselness(img,  sig = [0.5, 1, 2], tau = 0.01,\n",
    "                                  min_contrast = 0.0, grad_type = 'numpy', \n",
    "                                  scale = False)\n",
    "\n",
    "res_meij = en.meijering_vesselness(img,  sig = [0.5, 1, 2], alpha = 5,\n",
    "                                  min_contrast = 0.0, grad_type = 'numpy')\n",
    "\n",
    "\n",
    "viewer = napari.Viewer()\n",
    "viewer.add_image(img, colormap = \"gray\", scale = (10, 1, 1))\n",
    "viewer.add_image(res_sato, colormap = \"gray\", scale = (10, 1, 1))\n",
    "viewer.add_image(res_frangi, colormap = \"gray\", scale = (10, 1, 1))\n",
    "viewer.add_image(res_jerman, colormap = \"gray\", scale = (10, 1, 1))\n",
    "viewer.add_image(res_zhang, colormap = \"gray\", scale = (10, 1, 1))\n",
    "viewer.add_image(res_meij, colormap = \"gray\", scale = (10, 1, 1))"
   ]
  }
 ],
 "metadata": {
  "kernelspec": {
   "display_name": "Python 3 (ipykernel)",
   "language": "python",
   "name": "python3"
  },
  "language_info": {
   "codemirror_mode": {
    "name": "ipython",
    "version": 3
   },
   "file_extension": ".py",
   "mimetype": "text/x-python",
   "name": "python",
   "nbconvert_exporter": "python",
   "pygments_lexer": "ipython3",
   "version": "3.8.12"
  }
 },
 "nbformat": 4,
 "nbformat_minor": 5
}
