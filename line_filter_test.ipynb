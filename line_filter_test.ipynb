{
 "cells": [
  {
   "cell_type": "code",
   "execution_count": null,
   "id": "bfc5cd80-133c-4055-b717-eff9438d4084",
   "metadata": {},
   "outputs": [],
   "source": [
    "import tifffile\n",
    "import os\n",
    "import ipyvolume as ipv\n",
    "from image_processing.transforms.photometric.local_filtering import enhancement as en\n",
    "from image_processing.utils import convenience as cnv\n",
    "\n",
    "filename = 'filament.tif'\n",
    "\n",
    "\n",
    "img = tifffile.imread(filename)\n",
    "img = cnv.rescale(img)\n",
    "res_sato = en.sato_vesselness(img,  sig = [0.5, 1, 2], alpha1 = 1.2, alpha2 = 6, \n",
    "                              min_contrast = 0.0, grad_type = 'numpy', \n",
    "                              scale = False)\n",
    "\n",
    "res_frangi = en.frangi_vesselness(img,  sig = [0.5, 1, 2], alpha = 1.2, beta = 6, c = 0.005,\n",
    "                                  min_contrast = 0.0, grad_type = 'numpy', \n",
    "                                  scale = True)\n",
    "\n",
    "res_jerman = en.jerman_vesselness(img,  sig = [0.5, 1, 2], tau = 0.2,\n",
    "                                  min_contrast = 0.0, grad_type = 'numpy', \n",
    "                                  scale = False)\n",
    "\n",
    "res_zhang = en.zhang_vesselness(img,  sig = [0.5, 1, 2], tau = 0.01,\n",
    "                                  min_contrast = 0.0, grad_type = 'numpy', \n",
    "                                  scale = False)\n",
    "\n",
    "res_meij = en.meijering_vesselness(img,  sig = [0.5, 1, 2], alpha = 5,\n",
    "                                  min_contrast = 0.0, grad_type = 'numpy')\n",
    "\n",
    "\n",
    "ipv.quickvolshow(img, level = (0.2, 1, 1), opacity = (0.2, 0, 0),\n",
    "                 ambient_coefficient=0.5, diffuse_coefficient=0.1, \n",
    "                 specular_coefficient=0.1, specular_exponent=1,\n",
    "                 max_opacity = 1)"
   ]
  }
 ],
 "metadata": {
  "kernelspec": {
   "display_name": "Python 3 (ipykernel)",
   "language": "python",
   "name": "python3"
  },
  "language_info": {
   "codemirror_mode": {
    "name": "ipython",
    "version": 3
   },
   "file_extension": ".py",
   "mimetype": "text/x-python",
   "name": "python",
   "nbconvert_exporter": "python",
   "pygments_lexer": "ipython3",
   "version": "3.8.0"
  }
 },
 "nbformat": 4,
 "nbformat_minor": 5
}
